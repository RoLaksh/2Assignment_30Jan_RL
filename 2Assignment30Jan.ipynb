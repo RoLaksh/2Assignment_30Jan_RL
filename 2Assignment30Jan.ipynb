{
 "cells": [
  {
   "cell_type": "markdown",
   "id": "fc35f2b6-0f13-4279-9b5e-137d87bab8a8",
   "metadata": {},
   "source": [
    "1) Write a program to accept percentage from the user and display the grade according to the following criteria:\n",
    "Mark          -  Grade\n",
    ">90           -  A,\n",
    ">80 and <=90  -  B,\n",
    ">=60 and <=80 -  C,\n",
    "below 60      -  D\n"
   ]
  },
  {
   "cell_type": "code",
   "execution_count": 51,
   "id": "32c8460a-436f-4d51-8fe9-e47e52ea60dd",
   "metadata": {},
   "outputs": [
    {
     "name": "stdin",
     "output_type": "stream",
     "text": [
      "Enter your percentage 92\n"
     ]
    },
    {
     "name": "stdout",
     "output_type": "stream",
     "text": [
      "A\n"
     ]
    }
   ],
   "source": [
    "#Answer\n",
    "user = int(input(\"Enter your percentage\"))\n",
    "\n",
    "if user > 90 :\n",
    "    print(\"A\")\n",
    "elif user > 80 and user <= 90 :\n",
    "    print(\"B\")\n",
    "elif user >= 60 and user <= 80 :\n",
    "    print(\"C\")\n",
    "else :\n",
    "    print(\"D\")\n"
   ]
  },
  {
   "cell_type": "markdown",
   "id": "83e1e306-565c-4bd3-90d9-d3694e0e4000",
   "metadata": {},
   "source": [
    "2) Write a program  to accept the cost price of a bike and display the road tax to be paid according to the following criteria:\n",
    "Tax        -        Cost Price(in RS)\n",
    "15%        -        >100000,\n",
    "10%        -        >50000 and <= 100000,\n",
    "5%         -        <=50000\n"
   ]
  },
  {
   "cell_type": "code",
   "execution_count": 52,
   "id": "d1df3b7f-9590-42fc-b82d-73bd68fd6a15",
   "metadata": {},
   "outputs": [
    {
     "name": "stdin",
     "output_type": "stream",
     "text": [
      "Enter the cost price of the bike 45545\n"
     ]
    },
    {
     "name": "stdout",
     "output_type": "stream",
     "text": [
      "Road Tax value=5% 2277.25\n"
     ]
    }
   ],
   "source": [
    "#Answer\n",
    "x = 0\n",
    "i = \"Bike price\"\n",
    "i = int(input(\"Enter the cost price of the bike\"))\n",
    "\n",
    "if i > 100000 :\n",
    "    x=15/100*i\n",
    "    print(\"Road Tax value=15%\",x)\n",
    "    \n",
    "elif i > 50000 and i <= 100000 :\n",
    "    x=10/100*i\n",
    "    print(\"Road Tax value=10%\",x)\n",
    "    \n",
    "elif i <= 500000:\n",
    "     x=5/100*i\n",
    "     print(\"Road Tax value=5%\",x)\n",
    "    \n",
    "else :\n",
    "    print(\"There is no road tax\")\n"
   ]
  },
  {
   "cell_type": "markdown",
   "id": "b094740d-75b4-4738-9d8b-209c24e3f917",
   "metadata": {},
   "source": [
    "3) Accept  any city from the user and display monuments of that city.\n",
    "City     -     Monuments\n",
    "Delhi    -   Red Fort\n",
    "Agra     -   Taj Mahal\n",
    "Jaipur   -   Jal Mahal"
   ]
  },
  {
   "cell_type": "code",
   "execution_count": 53,
   "id": "5d10479b-b004-4e5d-aea9-b58d8b79abb8",
   "metadata": {},
   "outputs": [
    {
     "name": "stdin",
     "output_type": "stream",
     "text": [
      "Enter a city Delhi\n"
     ]
    },
    {
     "name": "stdout",
     "output_type": "stream",
     "text": [
      "Red Fort\n"
     ]
    }
   ],
   "source": [
    "#Answer\n",
    "City = input(\"Enter a city\")\n",
    "\n",
    "if City == \"Delhi\" :\n",
    "    print(\"Red Fort\")\n",
    "elif City == \"Agra\" :\n",
    "    print(\"Taj Mahal\")\n",
    "elif City == \"Jaipur\" :\n",
    "    print(\"Jal Mahal\")\n",
    "else :\n",
    "    print(\"Enter a valid city\")"
   ]
  },
  {
   "cell_type": "markdown",
   "id": "c5d135f3-59cd-4b7b-a92b-a8bf3ebdaa45",
   "metadata": {},
   "source": [
    "4) Check how many times a given number can be divided by 3 before it is less than or equal to 10."
   ]
  },
  {
   "cell_type": "code",
   "execution_count": 65,
   "id": "ae87d513-ee0a-4bec-83c0-7b936fd656ba",
   "metadata": {},
   "outputs": [
    {
     "name": "stdin",
     "output_type": "stream",
     "text": [
      "Enter number 9\n"
     ]
    },
    {
     "name": "stdout",
     "output_type": "stream",
     "text": [
      "Yes\n"
     ]
    }
   ],
   "source": [
    "#Answer\n",
    " \n",
    "# Function to find that number\n",
    "# divisible by 3 or not\n",
    "def check(num) :\n",
    "     \n",
    "    # Compute sum of digits\n",
    "    digitSum = 0\n",
    "    while num > 0 :\n",
    "        rem = num % 10\n",
    "        digitSum = digitSum + rem\n",
    "        num = num // 10\n",
    "         \n",
    "    # Check if sum of digits is\n",
    "    # divisible by 3.\n",
    "    return (digitSum % 3 == 0)\n",
    "     \n",
    "# main function\n",
    "num = int(input(\"Enter number\"))\n",
    "if(check(num)) :\n",
    "    print (\"Yes\")\n",
    "else :\n",
    "    print (\"No\")"
   ]
  },
  {
   "cell_type": "raw",
   "id": "9f433d08-9336-4b3b-b355-9d0a1f42bf54",
   "metadata": {},
   "source": [
    "5) Why  and when to use while loop in python give a detailed description with example"
   ]
  },
  {
   "cell_type": "code",
   "execution_count": 67,
   "id": "eedcf91b-81d5-4eb6-b58d-3c291e4d6c31",
   "metadata": {},
   "outputs": [
    {
     "name": "stdout",
     "output_type": "stream",
     "text": [
      "4\n",
      "3\n",
      "2\n",
      "1\n"
     ]
    }
   ],
   "source": [
    "##Answer\n",
    "#Python While Loop is used to execute a block of statements repeatedly until a given condition is satisfied. And when the condition becomes false, the line immediately after the loop in the program is executed.\n",
    "#Eaxample:\n",
    "# checks if list still\n",
    "# contains any element\n",
    "a = [1, 2, 3, 4]\n",
    " \n",
    "while a:\n",
    "    print(a.pop())"
   ]
  },
  {
   "cell_type": "markdown",
   "id": "3bc547e7-18e6-45b4-92d9-642c655a2530",
   "metadata": {},
   "source": [
    "6) Use nested  while loop to print 3 differnt pattern."
   ]
  },
  {
   "cell_type": "code",
   "execution_count": 68,
   "id": "a08b710b-3089-442e-bc4e-1dfc1bdbaa6e",
   "metadata": {},
   "outputs": [
    {
     "name": "stdout",
     "output_type": "stream",
     "text": [
      "1 \n",
      "1 2 \n",
      "1 2 3 \n",
      "1 2 3 4 \n",
      "1 2 3 4 5 \n"
     ]
    }
   ],
   "source": [
    "##Answer\n",
    "i=1\n",
    "while i<=5:\n",
    "    j=1\n",
    "    while j<=i:\n",
    "        print(j,end=\" \")\n",
    "        j=j+1\n",
    "    print(\"\")\n",
    "    i=i+1"
   ]
  },
  {
   "cell_type": "markdown",
   "id": "25cbfa07-e94c-4c0d-b3c3-67a96246f3e9",
   "metadata": {},
   "source": [
    "7) Reverse a while loop to display numbers from 10 to 1."
   ]
  },
  {
   "cell_type": "code",
   "execution_count": 69,
   "id": "23ed92aa-a951-4230-8e03-99d930afd8bb",
   "metadata": {},
   "outputs": [
    {
     "name": "stdout",
     "output_type": "stream",
     "text": [
      "10\n",
      "9\n",
      "8\n",
      "7\n",
      "6\n",
      "5\n",
      "4\n",
      "3\n",
      "2\n",
      "1\n"
     ]
    }
   ],
   "source": [
    "i = 10\n",
    "while i > 0:\n",
    "    print(i)\n",
    "    i = i - 1"
   ]
  }
 ],
 "metadata": {
  "kernelspec": {
   "display_name": "Python 3 (ipykernel)",
   "language": "python",
   "name": "python3"
  },
  "language_info": {
   "codemirror_mode": {
    "name": "ipython",
    "version": 3
   },
   "file_extension": ".py",
   "mimetype": "text/x-python",
   "name": "python",
   "nbconvert_exporter": "python",
   "pygments_lexer": "ipython3",
   "version": "3.10.8"
  }
 },
 "nbformat": 4,
 "nbformat_minor": 5
}
